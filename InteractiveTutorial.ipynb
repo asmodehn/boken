{
 "cells": [
  {
   "cell_type": "code",
   "execution_count": 1,
   "metadata": {},
   "outputs": [
    {
     "data": {
      "text/plain": [
       "{'error': [],\n",
       " 'result': {'unixtime': 1566379666,\n",
       "  'rfc1123': 'Wed, 21 Aug 19 09:27:46 +0000'}}"
      ]
     },
     "execution_count": 1,
     "metadata": {},
     "output_type": "execute_result"
    }
   ],
   "source": [
    "from boken.sync import kraken\n",
    "\n",
    "kraken.get_time()"
   ]
  },
  {
   "cell_type": "code",
   "execution_count": 3,
   "metadata": {},
   "outputs": [
    {
     "name": "stdout",
     "output_type": "stream",
     "text": [
      "Getting Kraken time`\n",
      "{'error': [], 'result': {'unixtime': 1566380155, 'rfc1123': 'Wed, 21 Aug 19 09:35:55 +0000'}}\n"
     ]
    }
   ],
   "source": [
    "import asyncio\n",
    "\n",
    "from boken.aio import kraken\n",
    "\n",
    "\n",
    "async def get_time():\n",
    "    print(\"Getting Kraken time`\")\n",
    "    response = await kraken.get_time()\n",
    "    print(response)\n",
    "    return response\n",
    "\n",
    "\n",
    "if __name__ == \"__main__\":\n",
    "    loop = asyncio.get_event_loop()\n",
    "    # note : loop_until_complete doesnt work since ipython is already running it !\n",
    "    # see : https://blog.jupyter.org/ipython-7-0-async-repl-a35ce050f7f7\n",
    "    loop.create_task(get_time())\n"
   ]
  },
  {
   "cell_type": "code",
   "execution_count": null,
   "metadata": {},
   "outputs": [],
   "source": []
  }
 ],
 "metadata": {
  "kernelspec": {
   "display_name": "Python 3",
   "language": "python",
   "name": "python3"
  },
  "language_info": {
   "codemirror_mode": {
    "name": "ipython",
    "version": 3
   },
   "file_extension": ".py",
   "mimetype": "text/x-python",
   "name": "python",
   "nbconvert_exporter": "python",
   "pygments_lexer": "ipython3",
   "version": "3.7.3"
  }
 },
 "nbformat": 4,
 "nbformat_minor": 4
}
